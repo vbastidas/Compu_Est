{
  "cells": [
    {
      "cell_type": "markdown",
      "metadata": {
        "id": "AHwh8pEKeYYz"
      },
      "source": [
        "# Tarea 2 - Estadística Computacional\n",
        "\n",
        "- Nombre: Valentina Bastidas Schade\n",
        "\n",
        "Curso: Estadística Computacional\n",
        "\n",
        "Doctorado en Estadística\n",
        "\n",
        "\n",
        "Responda las preguntas que se indican colocando el código requerido. El Notebook se entrega totalmente ejecutado."
      ]
    },
    {
      "cell_type": "markdown",
      "metadata": {
        "id": "hJSM7VpweYZM"
      },
      "source": [
        "**Ingrese los Toolbox que se utilizarán en este Jupyter**"
      ]
    },
    {
      "cell_type": "code",
      "execution_count": null,
      "metadata": {
        "id": "PtEZppw_eYZN"
      },
      "outputs": [],
      "source": [
        "import time\n",
        "import numpy as np\n",
        "import matplotlib.pyplot as plt\n",
        "import math\n",
        "import pandas as pd\n",
        "from scipy import optimize\n",
        "\n"
      ]
    },
    {
      "cell_type": "markdown",
      "metadata": {
        "id": "5KkNh4CReYZP"
      },
      "source": [
        "## 1. Estudio de Algoritmos de Ordenamiento\n",
        "\n",
        "Realizar un estudio comparativo de los tiempos de ejecución requeridos por los algoritmos de ordenamientos, para ordernar listas de elementos con diferentes tamaños. El estudio debe considerar al menos 4 algoritmos de ordenamientos diferentes seleccionados por Ud."
      ]
    },
    {
      "cell_type": "markdown",
      "metadata": {
        "id": "rmlPckNH7RCF"
      },
      "source": [
        "**1.1.-** Implementar una función que genere una lista con $n$ números aleatorios en el rango $a$, $b$. Los parámetros $n, a, b$ son ingresados por el usuario."
      ]
    },
    {
      "cell_type": "code",
      "execution_count": null,
      "metadata": {
        "id": "hyV0Orw-7OhK"
      },
      "outputs": [],
      "source": [
        "#a:lim inf    b:lim sup    n:cantidad.  d:decimales\n",
        "def random(a,b,n,d):\n",
        "  r=np.random.uniform(a,b,n)\n",
        "  r=np.around(r,d)\n",
        "  return(r)"
      ]
    },
    {
      "cell_type": "code",
      "execution_count": null,
      "metadata": {
        "colab": {
          "base_uri": "https://localhost:8080/"
        },
        "id": "Zk1m3Mzkwwsn",
        "outputId": "08f09574-e436-45b5-c7b6-7fb47a824961"
      },
      "outputs": [
        {
          "name": "stdout",
          "output_type": "stream",
          "text": [
            "El vector aleatorio es:  [ 1.659  3.613  6.741 15.59  11.278  4.207 17.629  1.879 10.091 17.822]\n"
          ]
        }
      ],
      "source": [
        "#Ejemplo\n",
        "A=random(1,20,10,3)\n",
        "print(\"El vector aleatorio es: \",A)"
      ]
    },
    {
      "cell_type": "markdown",
      "metadata": {
        "id": "KRv8yoT47wc2"
      },
      "source": [
        "**1.2.-** Implementar al menos 4 funciones con algoritmos de ordenamientos diferentes"
      ]
    },
    {
      "cell_type": "markdown",
      "metadata": {
        "id": "SbOR8kDPbEoj"
      },
      "source": [
        "\n",
        "\n",
        "---\n",
        "\n",
        "###Algoritmo de ordenamiento 1: Selection Sort"
      ]
    },
    {
      "cell_type": "code",
      "execution_count": null,
      "metadata": {
        "id": "LI87pz_r5li-"
      },
      "outputs": [],
      "source": [
        "B=random(1,20,10,3)"
      ]
    },
    {
      "cell_type": "code",
      "execution_count": null,
      "metadata": {
        "id": "Z4xYJVbX5agn"
      },
      "outputs": [],
      "source": [
        "#funcion Selection Sort\n",
        "def orden_sort(A):\n",
        "  for i in range(len(A)):\n",
        "    min_idx = i\n",
        "    for j in range(i+1,len(A)):\n",
        "      if A[min_idx]>A[j]:\n",
        "        min_idx = j\n",
        "    A[i],A[min_idx] = A[min_idx],A[i]\n",
        "  return(A)"
      ]
    },
    {
      "cell_type": "code",
      "execution_count": null,
      "metadata": {
        "colab": {
          "base_uri": "https://localhost:8080/"
        },
        "id": "R3jyagO-5qf7",
        "outputId": "a7b2955e-5801-4150-f5f6-4d74b86ef091"
      },
      "outputs": [
        {
          "name": "stdout",
          "output_type": "stream",
          "text": [
            "La lista ordenada con Selection Sort es:  [ 3.681  5.084  9.67  11.61  13.109 14.55  15.399 17.379 18.1   18.94 ]\n"
          ]
        }
      ],
      "source": [
        "obj1=orden_sort(B)\n",
        "print(\"La lista ordenada con Selection Sort es: \", obj1)"
      ]
    },
    {
      "cell_type": "markdown",
      "metadata": {
        "id": "l6VsM3Jna_-7"
      },
      "source": [
        "\n",
        "\n",
        "---\n",
        "\n",
        "###Algoritmo de ordenamiento 2: Bubble Sort"
      ]
    },
    {
      "cell_type": "code",
      "execution_count": null,
      "metadata": {
        "id": "eIkqKE6R8VLE"
      },
      "outputs": [],
      "source": [
        "B=random(1,20,10,3)"
      ]
    },
    {
      "cell_type": "code",
      "execution_count": null,
      "metadata": {
        "id": "dtRfowkG1ogq"
      },
      "outputs": [],
      "source": [
        "#bubble sort\n",
        "def bubble_sort(x):\n",
        "  n=len(x)\n",
        "  for i in range(n-1):\n",
        "    for j in range(0,n-i-1):\n",
        "      if x[j]>x[j+1]:\n",
        "        x[j],x[j+1]=x[j+1],x[j]\n",
        "  return(x)"
      ]
    },
    {
      "cell_type": "code",
      "execution_count": null,
      "metadata": {
        "colab": {
          "base_uri": "https://localhost:8080/"
        },
        "id": "nmfdF9HA8oBQ",
        "outputId": "11e97a79-243f-4c76-8b42-7c54ef9b4a65"
      },
      "outputs": [
        {
          "name": "stdout",
          "output_type": "stream",
          "text": [
            "La lista ordenada con Bubble Sort es:  [ 2.745  3.899  6.53   8.963 11.495 13.598 16.399 18.645 19.006 19.551]\n"
          ]
        }
      ],
      "source": [
        "obj2=bubble_sort(B)\n",
        "print(\"La lista ordenada con Bubble Sort es: \", obj2)"
      ]
    },
    {
      "cell_type": "markdown",
      "metadata": {
        "id": "UEoYJAkVbjLf"
      },
      "source": [
        "\n",
        "\n",
        "---\n",
        "\n",
        "###Algoritmo de ordenamiento 3: Merge Sort"
      ]
    },
    {
      "cell_type": "code",
      "execution_count": null,
      "metadata": {
        "id": "X5QGP3B4JyZT"
      },
      "outputs": [],
      "source": [
        "#merge sort\n",
        "def merge(arr, l, m, r):\n",
        "    n1 = m - l + 1\n",
        "    n2 = r - m\n",
        "    L = [0] * (n1)#arreglos temporales\n",
        "    R = [0] * (n2)#arreglos temporales\n",
        "    for i in range(0, n1):\n",
        "        L[i] = arr[l + i]\n",
        "    for j in range(0, n2):\n",
        "        R[j] = arr[m + 1 + j]\n",
        "    i = 0     # Initial index of first subarray\n",
        "    j = 0     # Initial index of second subarray\n",
        "    k = l     # Initial index of merged subarray\n",
        "    while i < n1 and j < n2:\n",
        "        if L[i] <= R[j]:\n",
        "            arr[k] = L[i]\n",
        "            i += 1\n",
        "        else:\n",
        "            arr[k] = R[j]\n",
        "            j += 1\n",
        "        k += 1\n",
        "\n",
        "    while i < n1:\n",
        "        arr[k] = L[i]\n",
        "        i += 1\n",
        "        k += 1\n",
        " \n",
        "    while j < n2:\n",
        "        arr[k] = R[j]\n",
        "        j += 1\n",
        "        k += 1\n",
        " \n",
        "\n",
        "def mergeSort(arr, l, r): \n",
        "    if l < r:\n",
        "      m = l+(r-l)//2\n",
        "      mergeSort(arr, l, m)\n",
        "      mergeSort(arr, m+1, r)\n",
        "      merge(arr, l, m, r)\n",
        "    return(arr)\n"
      ]
    },
    {
      "cell_type": "code",
      "execution_count": null,
      "metadata": {
        "colab": {
          "base_uri": "https://localhost:8080/"
        },
        "id": "2beQmSb8PAPQ",
        "outputId": "91794ffe-3fdb-4cfe-e5c0-c123fd84b879"
      },
      "outputs": [
        {
          "name": "stdout",
          "output_type": "stream",
          "text": [
            "La lista ordenada con Merge Sort es:  [ 5.541 11.506 14.449 17.273 22.021 23.657 29.016 29.829 33.932 36.102]\n"
          ]
        }
      ],
      "source": [
        "B=random(1,40,10,3)\n",
        "n=len(B)\n",
        "obj3=mergeSort(B,0,n-1)\n",
        "print(\"La lista ordenada con Merge Sort es: \", obj3)"
      ]
    },
    {
      "cell_type": "markdown",
      "metadata": {
        "id": "QrDrS13xhKRG"
      },
      "source": [
        "---\n",
        "\n",
        "###Algoritmo de ordenamiento 4: Quick Sort"
      ]
    },
    {
      "cell_type": "code",
      "execution_count": null,
      "metadata": {
        "id": "xG94S2wU7Apw"
      },
      "outputs": [],
      "source": [
        "#quick sort\n",
        "def partition(x,low,high):\n",
        "  i=(low-1)\n",
        "  pivot=x[high]\n",
        "  for j in range(low,high):\n",
        "    if x[j]<=pivot:\n",
        "      i=i+1\n",
        "      x[i],x[j]=x[j],x[i]\n",
        "  x[i+1],x[high]=x[high],x[i+1]\n",
        "  return(i+1)\n",
        "\n",
        "def quick_sort(x,low,high):\n",
        "  if len(x)==1:\n",
        "    return(x)\n",
        "  if low < high:\n",
        "      pi=partition(x,low,high)\n",
        "      quick_sort(x,low,pi-1)\n",
        "      quick_sort(x,pi+1,high)\n",
        "  return(x)"
      ]
    },
    {
      "cell_type": "code",
      "execution_count": null,
      "metadata": {
        "colab": {
          "base_uri": "https://localhost:8080/"
        },
        "id": "5aW8yhDzO8kK",
        "outputId": "346c50f6-7ed9-4b10-850b-8dd99d8fe424"
      },
      "outputs": [
        {
          "name": "stdout",
          "output_type": "stream",
          "text": [
            "La lista ordenada con Quick Sort es:  [ 3.777  5.768  6.625  8.442  8.631  9.909 13.174 17.296 22.048 29.379]\n"
          ]
        }
      ],
      "source": [
        "B=random(3,30,10,3)\n",
        "n = len(B)\n",
        "obj4=quick_sort(B,0,(n-1))\n",
        "print(\"La lista ordenada con Quick Sort es: \", obj4)"
      ]
    },
    {
      "cell_type": "markdown",
      "metadata": {
        "id": "WHpkXJJC784X"
      },
      "source": [
        "**1.3.-** Calcular los tiempos de ejecución requeridos por los métodos para ordenar listas aleatorias de elementos con $n= 10, 100, 1000, 10000, 100000$ elementos.  "
      ]
    },
    {
      "cell_type": "code",
      "execution_count": null,
      "metadata": {
        "id": "Q0DLrJU7hwFT"
      },
      "outputs": [],
      "source": [
        "def tiempo_orden(x,ordenamiento): #x es el arreglo a ordenar \n",
        "  if ordenamiento==\"sort\":\n",
        "    start = time.time()\n",
        "    s1=orden_sort(x)\n",
        "    end = time.time()\n",
        "    ts1=end - start\n",
        "    print(\"El tiempo para ordenar una lista de largo\", len(x), \"por el método Sort es: \", ts1)\n",
        "  elif ordenamiento==\"bubble\":\n",
        "    start = time.time()\n",
        "    b1=bubble_sort(x)\n",
        "    end = time.time()\n",
        "    tb1=end - start\n",
        "    print(\"El tiempo para ordenar una lista de largo\", len(x), \"por el método Bubble es: \", tb1)\n",
        "  elif ordenamiento==\"merge\":\n",
        "    n=len(x)\n",
        "    start = time.time()\n",
        "    m1=mergeSort(x, 0, n-1)\n",
        "    end = time.time()\n",
        "    tm1=end - start\n",
        "    print(\"El tiempo para ordenar una lista de largo\", len(x), \"por el método Merge es: \", tm1)\n",
        "  elif ordenamiento==\"quick\":\n",
        "    n=len(x)\n",
        "    start = time.time()\n",
        "    q1=quick_sort(x,0,(n-1))\n",
        "    end = time.time()\n",
        "    tq1=end - start\n",
        "    print(\"El tiempo para ordenar una lista de largo\", len(x), \"por el método Quick es: \", tq1)"
      ]
    },
    {
      "cell_type": "code",
      "execution_count": 249,
      "metadata": {
        "colab": {
          "base_uri": "https://localhost:8080/"
        },
        "id": "6NqR5MwBU0w0",
        "outputId": "1e416a96-ce13-4fdb-9bbb-caf1bec0524c"
      },
      "outputs": [
        {
          "output_type": "stream",
          "name": "stdout",
          "text": [
            "El tiempo para ordenar una lista de largo 10 por el método Sort es:  6.556510925292969e-05\n",
            "El tiempo para ordenar una lista de largo 100 por el método Sort es:  0.0023474693298339844\n",
            "El tiempo para ordenar una lista de largo 1000 por el método Sort es:  0.12456631660461426\n",
            "El tiempo para ordenar una lista de largo 10000 por el método Sort es:  12.429742336273193\n",
            "El tiempo para ordenar una lista de largo 100000 por el método Sort es:  1249.2469544410706\n"
          ]
        }
      ],
      "source": [
        "#tiempos para método sort\n",
        "for i in range(1,6):\n",
        "  n=10**i\n",
        "  aleatorio=random(0,50,n,2)\n",
        "  tiempo_orden(aleatorio,\"sort\")"
      ]
    },
    {
      "cell_type": "code",
      "execution_count": 255,
      "metadata": {
        "colab": {
          "base_uri": "https://localhost:8080/"
        },
        "id": "wP8QJFBfWY9Z",
        "outputId": "7fe654cd-9195-400f-c1ce-baf727c5f918"
      },
      "outputs": [
        {
          "output_type": "stream",
          "name": "stdout",
          "text": [
            "El tiempo para ordenar una lista de largo 10 por el método Bubble es:  0.00011420249938964844\n",
            "El tiempo para ordenar una lista de largo 100 por el método Bubble es:  0.007313251495361328\n",
            "El tiempo para ordenar una lista de largo 1000 por el método Bubble es:  0.23528409004211426\n",
            "El tiempo para ordenar una lista de largo 10000 por el método Bubble es:  23.602906703948975\n",
            "El tiempo para ordenar una lista de largo 100000 por el método Bubble es:  2399.188801050186\n"
          ]
        }
      ],
      "source": [
        "#tiempos para método bubble\n",
        "for i in range(1,6):\n",
        "  n=10**i\n",
        "  aleatorio=random(0,50,n,2)\n",
        "  tiempo_orden(aleatorio,\"bubble\")"
      ]
    },
    {
      "cell_type": "code",
      "execution_count": 89,
      "metadata": {
        "colab": {
          "base_uri": "https://localhost:8080/"
        },
        "id": "SkjBy65EWb3T",
        "outputId": "ee1979af-38a7-45fa-97ee-c79c7ec226ae"
      },
      "outputs": [
        {
          "output_type": "stream",
          "name": "stdout",
          "text": [
            "El tiempo para ordenar una lista de largo 10 por el método Merge es:  0.00010132789611816406\n",
            "El tiempo para ordenar una lista de largo 100 por el método Merge es:  0.0005500316619873047\n",
            "El tiempo para ordenar una lista de largo 1000 por el método Merge es:  0.01933431625366211\n",
            "El tiempo para ordenar una lista de largo 10000 por el método Merge es:  0.09073138236999512\n",
            "El tiempo para ordenar una lista de largo 100000 por el método Merge es:  1.0930590629577637\n"
          ]
        }
      ],
      "source": [
        "#tiempos para método merge\n",
        "for i in range(1,6):\n",
        "  n=10**i\n",
        "  aleatorio=random(0,50,n,2)\n",
        "  tiempo_orden(aleatorio,\"merge\")"
      ]
    },
    {
      "cell_type": "code",
      "execution_count": 88,
      "metadata": {
        "colab": {
          "base_uri": "https://localhost:8080/"
        },
        "id": "Ela5wV2sWio0",
        "outputId": "f3746ce4-f6cd-4b9c-fd5f-bdb5b911e3b0"
      },
      "outputs": [
        {
          "output_type": "stream",
          "name": "stdout",
          "text": [
            "El tiempo para ordenar una lista de largo 10 por el método Quick es:  2.9087066650390625e-05\n",
            "El tiempo para ordenar una lista de largo 100 por el método Quick es:  0.0003972053527832031\n",
            "El tiempo para ordenar una lista de largo 1000 por el método Quick es:  0.012553215026855469\n",
            "El tiempo para ordenar una lista de largo 10000 por el método Quick es:  0.07323169708251953\n",
            "El tiempo para ordenar una lista de largo 100000 por el método Quick es:  1.3392624855041504\n"
          ]
        }
      ],
      "source": [
        "#tiempos para método quick\n",
        "for i in range(1,6):\n",
        "  n=10**i\n",
        "  aleatorio=random(0,50,n,2)\n",
        "  tiempo_orden(aleatorio,\"quick\")"
      ]
    },
    {
      "cell_type": "markdown",
      "metadata": {
        "id": "HKfkfX618URH"
      },
      "source": [
        "**1.4.-** Colocar una tabla comparativa con los resultados, además de un gráfico de $n$ vs $tiempo$."
      ]
    },
    {
      "cell_type": "markdown",
      "metadata": {
        "id": "H3EQ-UQ192cU"
      },
      "source": [
        "| n      | Sort | Bubble | Merge | Quick|\n",
        "|-|||||\n",
        "| 10|6.556510925292969e-05 |0.00011420249938964844| 0.00010132789611816406|2.9087066650390625e-05|\n",
        "| 100|0.0023474693298339844|0.007313251495361328|0.0005500316619873047|0.0003972053527832031|\n",
        "| 1000|0.12456631660461426|0.23528409004211426|0.01933431625366211|0.012553215026855469|\n",
        "| 10000|12.429742336273193|23.602906703948975|0.09073138236999512|0.07323169708251953|\n",
        "| 100000|1249.2469544410706|2399.188801050186|1.0930590629577637|1.3392624855041504|\n"
      ]
    },
    {
      "cell_type": "code",
      "execution_count": 257,
      "metadata": {
        "id": "aCQCnkJfHsWi"
      },
      "outputs": [],
      "source": [
        "n=[10,100,1000,10000,100000]\n",
        "ts=[6.556510925292969e-05,0.0023474693298339844,0.12456631660461426,12.429742336273193,1249.2469544410706]\n",
        "tb=[0.00011420249938964844,0.007313251495361328,0.23528409004211426,23.602906703948975,2399.188801050186]\n",
        "tm=[0.00010132789611816406,0.0005500316619873047,0.01933431625366211,0.09073138236999512,1.0930590629577637]\n",
        "tq=[2.9087066650390625e-05,0.0003972053527832031,0.012553215026855469,0.07323169708251953,1.3392624855041504]"
      ]
    },
    {
      "cell_type": "code",
      "execution_count": 258,
      "metadata": {
        "colab": {
          "base_uri": "https://localhost:8080/",
          "height": 295
        },
        "id": "Z1CM8opKeYal",
        "outputId": "9c44b251-e624-4189-b251-a7c955031c91"
      },
      "outputs": [
        {
          "output_type": "display_data",
          "data": {
            "text/plain": [
              "<Figure size 432x288 with 1 Axes>"
            ],
            "image/png": "[encoded data removed]"
          },
          "metadata": {
            "needs_background": "light"
          }
        }
      ],
      "source": [
        "# Gráfico\n",
        "plt.plot(n, ts, \"-.\", color='black', label=\"Sort\")\n",
        "plt.plot(n, tb,\"-.\", color='blue', label=\"Bubble\")\n",
        "plt.plot(n, tm,\"--\", color='red', label=\"Merge\")\n",
        "plt.plot(n, tq,\":\", color='green',label=\"Quick\")\n",
        "plt.title(\"Gráfico n versus tiempo de ejecución\")\n",
        "plt.xlabel(\"Largo de la lista (n)\")\n",
        "plt.ylabel(\"Tiempo de ejecución en segundos\")\n",
        "plt.legend()\n",
        "plt.show()"
      ]
    },
    {
      "cell_type": "code",
      "source": [
        "# Gráfico dos más rápidos\n",
        "plt.plot(n, tm,\"--\", color='red', label=\"Merge\")\n",
        "plt.plot(n, tq,\":\", color='green',label=\"Quick\")\n",
        "plt.title(\"Gráfico n versus tiempo de ejecución\")\n",
        "plt.xlabel(\"Largo de la lista (n)\")\n",
        "plt.ylabel(\"Tiempo de ejecución en segundos\")\n",
        "plt.legend()\n",
        "plt.show()"
      ],
      "metadata": {
        "colab": {
          "base_uri": "https://localhost:8080/",
          "height": 295
        },
        "id": "2f-AZaNOQoQm",
        "outputId": "36f509cc-28ca-4f71-e2ff-739621b2d195"
      },
      "execution_count": 260,
      "outputs": [
        {
          "output_type": "display_data",
          "data": {
            "text/plain": [
              "<Figure size 432x288 with 1 Axes>"
            ],
            "image/png": "[encoded data removed]"
          },
          "metadata": {
            "needs_background": "light"
          }
        }
      ]
    },
    {
      "cell_type": "markdown",
      "metadata": {
        "id": "v7T1zmaO8k0m"
      },
      "source": [
        "**Concluir:** El método más lento es Bubble. Los ordenamientos Merge y Quick son considerablemente más rápidos que los dos primeros, más precisamente, el método Merge es más rápido al procesar los 100.000 datos."
      ]
    },
    {
      "cell_type": "markdown",
      "metadata": {
        "id": "EBWxhtFX8qt5"
      },
      "source": [
        "## 2. Métodos Numéricos"
      ]
    },
    {
      "cell_type": "markdown",
      "metadata": {
        "id": "HaygfRjb8qQb"
      },
      "source": [
        "**2.1.** Implementar el método de Halley cuya ecuación de iteración está dada por:\n",
        "\n",
        "$$g(x) = x - \\frac{f(x)}{f'(x)}\\left(1 - \\frac{f(x)\\cdot f''(x)}{2(f'(x))^2} \\right)^{-1}$$\n",
        "\n",
        "Una vez implementada la función, aplicarla para resolver la ecuación:\n",
        "\n",
        "$$f(x) = x^3 -3x + 2$$\n",
        "\n",
        "con punto de partida $x_0=2.4$.\n",
        "\n",
        "O equivalentemente:\n",
        "$$x_{i+1} = x_i - \\frac{2f(x_i)f'(x_i)}{2(f'(x_i))^2-f(x_i)f''(x_i)}$$"
      ]
    },
    {
      "cell_type": "code",
      "execution_count": null,
      "metadata": {
        "id": "ui3Noxmy7Wqc"
      },
      "outputs": [],
      "source": [
        "def halley(x0,tolerancia,f,df,ddf):\n",
        "  x=2.4\n",
        "  tolerancia=10**-20\n",
        "  while abs(f(x))>tolerancia:\n",
        "    res=x-(2*f(x)*df(x))/((2*df(x)**2)-f(x)*ddf(x))\n",
        "    print(res)\n",
        "    x=res\n",
        "  print(\"La raíz encontrada es\",round(x,5), \"y su imagen es \", f(x))"
      ]
    },
    {
      "cell_type": "code",
      "execution_count": null,
      "metadata": {
        "colab": {
          "base_uri": "https://localhost:8080/"
        },
        "id": "WGZJO7GllirZ",
        "outputId": "3c5829a1-0252-4802-abd2-d4cc76b4cddf"
      },
      "outputs": [
        {
          "name": "stdout",
          "output_type": "stream",
          "text": [
            "1.5316749585406304\n",
            "1.1876690331100084\n",
            "1.0638752411803718\n",
            "1.0214437443464313\n",
            "1.0071649837852699\n",
            "1.0023902307810804\n",
            "1.0007969552496045\n",
            "1.0002656752756045\n",
            "1.0000885610394379\n",
            "1.000029520637295\n",
            "1.0000098402449236\n",
            "1.0000032800760248\n",
            "1.0000010933485601\n",
            "1.0000003644474273\n",
            "1.0000001213977296\n",
            "1.0000000405277747\n",
            "1.000000012180631\n",
            "1.0000000087095096\n",
            "1.0000000030895224\n",
            "La raíz encontrada es 1.0 y su imagen es  0.0\n"
          ]
        }
      ],
      "source": [
        "def h(x):\n",
        "  return(x**3-3*x+2)\n",
        "\n",
        "def dh(x):\n",
        "  return(3*x**2-3)\n",
        "\n",
        "def ddh(x):\n",
        "  return(6*x)\n",
        "\n",
        "halley(2.4,10**-4,h,dh,ddh)"
      ]
    },
    {
      "cell_type": "code",
      "execution_count": null,
      "metadata": {
        "colab": {
          "base_uri": "https://localhost:8080/"
        },
        "id": "o3ZrrpMsljdn",
        "outputId": "9673b48e-aef7-4f6a-d3cc-2b91894fb222"
      },
      "outputs": [
        {
          "name": "stdout",
          "output_type": "stream",
          "text": [
            "2.995737963693765\n",
            "2.999999998788382\n",
            "3.0\n",
            "La raíz encontrada es 3.0 y su imagen es  0.0\n"
          ]
        }
      ],
      "source": [
        "#otro ejemplo\n",
        "def g(x):\n",
        "  return(x**2+2*x-15)\n",
        "\n",
        "def dg(x):\n",
        "  return(2*x+2)\n",
        "\n",
        "def ddg(x):\n",
        "  return(2)\n",
        "\n",
        "halley(0.5,10**-10,g,dg,ddg)"
      ]
    },
    {
      "cell_type": "markdown",
      "metadata": {
        "id": "XZ5NlLXu_jkk"
      },
      "source": [
        "**2.2** El proceso de aceleración de Aitken se utiliza para acelerar el proceso de convergencia de los algoritmos con convergencia lineal.\n",
        "\n",
        "Dada una secuencia $\\{x_n\\}_{n=0}^{\\infty}$ que converge linealmente a $p$, entonces el proceso de Aitken está dada por:\n",
        "\n",
        "$$q_n = x_n - \\frac{(x_{n+1}-x_n)^2}{x_{n+2} - 2x_{n+1} + x_n}$$.\n",
        "\n",
        "**Problema:** La secuencencia $\\{x_n\\}$ generada por la iteración de punto fijo $g(x) = \\ln(x) + 2$ y partiendo desde $x_0=3.14$ converge linealmente a $p\\approx 3.1419322$. Apicar el método de Aitken para encontrar $q_1$, $q_2$ y $q_3$ y de esta forma acelerar la convergencia. (Obs: $p\\approx 3.14619321$)"
      ]
    },
    {
      "cell_type": "code",
      "source": [
        "x=3.14\n",
        "xn=[]\n",
        "for i in range(5):\n",
        "  x=np.log(x)+2\n",
        "  xn.append(x)\n",
        "print(xn)"
      ],
      "metadata": {
        "colab": {
          "base_uri": "https://localhost:8080/"
        },
        "id": "mqHQ25gBN7mb",
        "outputId": "36f8c403-bc19-4a03-b82b-a4a39f5ad015"
      },
      "execution_count": 242,
      "outputs": [
        {
          "output_type": "stream",
          "name": "stdout",
          "text": [
            "[3.144222799920162, 3.145566737170702, 3.1459940765158634, 3.146129921772223, 3.146173101231629]\n"
          ]
        }
      ]
    },
    {
      "cell_type": "code",
      "source": [
        "qn=[]\n",
        "for i in range(3):\n",
        "  qn.append(xn[i]-(xn[i+1]-xn[i])**2/(xn[i+2]-2*xn[i+1]+xn[i]))\n",
        "print(qn)\n",
        "print(\"La sucesión converge a\" , qn[2])"
      ],
      "metadata": {
        "colab": {
          "base_uri": "https://localhost:8080/"
        },
        "id": "0FXZ5r9LO2nn",
        "outputId": "b9530cb1-299f-49c7-a87e-7ace8f033c03"
      },
      "execution_count": 247,
      "outputs": [
        {
          "output_type": "stream",
          "name": "stdout",
          "text": [
            "[3.1461933120965377, 3.146193229861081, 3.1461932215540767]\n",
            "La sucesión converge a 3.1461932215540767\n"
          ]
        }
      ]
    },
    {
      "cell_type": "markdown",
      "metadata": {
        "id": "EKLY0KsADFn-"
      },
      "source": [
        "#3.- Problema de Aplicación:\n",
        "\n",
        "Un problema clásico de la física elemental es el lanzamiento de un proyectil. Suponiendo que se dispara un proyectil desde el origen con un ángulo $\\alpha$ y velocidad inicial $v_0$. La ecuación de movimiento horizontal y vertical de la trayectoria del proyectil, al considerar una resistencia del aire proporcional a la velocidad, viene determinado por el siguiente modelo:\n",
        "\n",
        "$$\n",
        "  \\begin{array}{cl}\n",
        " y(t) &= (Cv_y+9.8C^2)\\left(1-e^{-t/C}\\right)-9.8Ct\\\\\n",
        " x(t) &= Cv_x\\left(1-e^{-t/C}\\right)\n",
        " \\end{array}\n",
        "$$\n",
        "\n",
        "donde $C=m/\\kappa$, $\\kappa$ es el coeficiente de resitencia del aire y $m$ es la masa del proyectil. Además $v_x=v_0 \\cos(\\alpha)$ y $v_y=v_0 \\sin(\\alpha)$.\n",
        "\n",
        "Se dispara el proyectil con un ángulo de elevación de $60°$, velocidades iniciales $v_0=100 [m/s]$ y $C=10$. Determinar el tiempo transcurrido hasta el impacto en el suelo y el alcance del lanzamiento. "
      ]
    },
    {
      "cell_type": "markdown",
      "metadata": {
        "id": "fh0PpGE0HzMf"
      },
      "source": [
        "- 3.1. Graficar la trayectoria del proyectil"
      ]
    },
    {
      "cell_type": "code",
      "execution_count": 121,
      "metadata": {
        "colab": {
          "base_uri": "https://localhost:8080/",
          "height": 295
        },
        "id": "QG8a1zkHBuFs",
        "outputId": "b2b790e2-8222-4d9a-e313-419561fa62b5"
      },
      "outputs": [
        {
          "output_type": "display_data",
          "data": {
            "text/plain": [
              "<Figure size 432x288 with 1 Axes>"
            ],
            "image/png": "[encoded data removed]"
          },
          "metadata": {
            "needs_background": "light"
          }
        }
      ],
      "source": [
        "#gráfico distancia vertical vs distancia horizontal\n",
        "alfa=math.pi/3\n",
        "v0=100\n",
        "C=10\n",
        "vx=v0*math.cos(alfa)\n",
        "vy=v0*math.sin(alfa)\n",
        "tiempo=np.linspace(0, 15, 200)\n",
        "\n",
        "xt=[]\n",
        "for i in range(len(tiempo)):\n",
        "  xt.append(C*vx*(1-math.exp(-tiempo[i]/C)))\n",
        "#print(xt)\n",
        "\n",
        "yt=[]\n",
        "for i in range(len(tiempo)):\n",
        "  yt.append((C*vy+9.8*C**2)*(1-math.exp(-tiempo[i]/C))-9.8*C*tiempo[i])\n",
        "#print(yt)\n",
        "\n",
        "#plt.plot(tiempo,yt)\n",
        "plt.plot(xt,yt)\n",
        "plt.xlim(0, 400)\n",
        "plt.ylim(0, 250)\n",
        "plt.title(\"Trayectoria del proyectil\")\n",
        "plt.xlabel(\"Distancia horizontal (metros)\")                      \n",
        "plt.ylabel(\"Distancia vertical (metros)\")    \n",
        "plt.show()  "
      ]
    },
    {
      "cell_type": "code",
      "execution_count": 120,
      "metadata": {
        "colab": {
          "base_uri": "https://localhost:8080/",
          "height": 295
        },
        "id": "ENTRX3iTeYay",
        "outputId": "cf1c7859-65db-45b6-f62c-8c3d2dab993e"
      },
      "outputs": [
        {
          "output_type": "display_data",
          "data": {
            "text/plain": [
              "<Figure size 432x288 with 1 Axes>"
            ],
            "image/png": "[encoded data removed]"
          },
          "metadata": {
            "needs_background": "light"
          }
        }
      ],
      "source": [
        "#otro gráfico: distancia vertical vs tiempo\n",
        "plt.plot(tiempo,yt)\n",
        "plt.xlim(0, 15)\n",
        "plt.ylim(0, 250)\n",
        "plt.title(\"Trayectoria del proyectil\")\n",
        "plt.xlabel(\"Tiempo transcurrido (segundos)\")                      \n",
        "plt.ylabel(\"Distancia vertical (metros)\")  \n",
        "plt.show()"
      ]
    },
    {
      "cell_type": "markdown",
      "metadata": {
        "id": "s6Fz4fDaH6MF"
      },
      "source": [
        "- 3.2. Utilizar un método numérico (toolbox) con punto inicial $p_0=14$ y obtener una solución.\n",
        "Indicar cuántos dígitos significativos tiene la solución."
      ]
    },
    {
      "cell_type": "code",
      "source": [
        "def f(t):\n",
        "  alfa=math.pi/3\n",
        "  v0=100\n",
        "  C=10\n",
        "  vx=v0*math.cos(alfa)\n",
        "  vy=v0*math.sin(alfa)\n",
        "  return ((C*vy+9.8*C**2)*(1-math.exp(-t/C))-9.8*C*t)"
      ],
      "metadata": {
        "id": "rXHIvwSRCxzR"
      },
      "execution_count": 137,
      "outputs": []
    },
    {
      "cell_type": "code",
      "source": [
        "#toolbox 1: método Broyden2\n",
        "solucion = optimize.root(f,14,method='broyden2')\n",
        "sol=solucion.x\n",
        "sol\n",
        "print(\"El proyectil toca el suelo a\", sol, \"segundos desde que fue lanzado\")"
      ],
      "metadata": {
        "colab": {
          "base_uri": "https://localhost:8080/"
        },
        "id": "MC3gxte1BX0J",
        "outputId": "e85be438-826a-47c8-e059-4eae1ede77ee"
      },
      "execution_count": 207,
      "outputs": [
        {
          "output_type": "stream",
          "name": "stdout",
          "text": [
            "El proyectil toca el suelo a 14.35293048428746 segundos desde que fue lanzado\n"
          ]
        }
      ]
    },
    {
      "cell_type": "code",
      "source": [
        "#dígitos significativos\n",
        "t = 8\n",
        "epsilon = 10**(1-t)/2\n",
        "# Test del signo\n",
        "print(f(sol-epsilon)*f(sol+epsilon))\n",
        "print(\"Con el método de Broyden la solución\", sol, \"tiene\", t,\"dígitos significativos\")"
      ],
      "metadata": {
        "colab": {
          "base_uri": "https://localhost:8080/"
        },
        "id": "CaRbxyAqFroJ",
        "outputId": "dff811ca-60ac-44f2-f23e-7e93f5b4f0f8"
      },
      "execution_count": 208,
      "outputs": [
        {
          "output_type": "stream",
          "name": "stdout",
          "text": [
            "-6.546377212022536e-12\n",
            "Con el método de Broyden la solución 14.35293048428746 tiene 8 dígitos significativos\n"
          ]
        }
      ]
    },
    {
      "cell_type": "code",
      "execution_count": 209,
      "metadata": {
        "colab": {
          "base_uri": "https://localhost:8080/"
        },
        "id": "ACzscmuOeYa_",
        "outputId": "86366c41-1bc6-45b8-ed68-7b7a2bc65c1f"
      },
      "outputs": [
        {
          "output_type": "stream",
          "name": "stdout",
          "text": [
            "El proyectil toca el suelo a 14.352930500401726 segundos desde que fue lanzado\n"
          ]
        }
      ],
      "source": [
        "#toolbox 2: método de bisección\n",
        "root = optimize.bisect(f, 14, 20)\n",
        "root\n",
        "print(\"El proyectil toca el suelo a\", root, \"segundos desde que fue lanzado\")"
      ]
    },
    {
      "cell_type": "code",
      "source": [
        "#dígitos significativos\n",
        "t = 13\n",
        "epsilon = 10**(1-t)/2\n",
        "# Test del signo\n",
        "print(f(root-epsilon)*f(root+epsilon))\n",
        "print(\"Con el método de bisección la solución\", root, \"tiene\", t, \"dígitos significativos\")"
      ],
      "metadata": {
        "colab": {
          "base_uri": "https://localhost:8080/"
        },
        "id": "4jHlZ8E7-19s",
        "outputId": "4af0ea61-45db-45bd-a95a-fc8b66b4abfc"
      },
      "execution_count": 210,
      "outputs": [
        {
          "output_type": "stream",
          "name": "stdout",
          "text": [
            "-4.904147056673763e-22\n",
            "Con el método de bisección la solución 14.352930500401726 tiene 13 dígitos significativos\n"
          ]
        }
      ]
    },
    {
      "cell_type": "markdown",
      "metadata": {
        "id": "wB2II_fKIJP0"
      },
      "source": [
        "- 3.3 Aplicar el método de Newton y obtener una solución. Indicar cuántos dígitos significativos tiene la solución."
      ]
    },
    {
      "cell_type": "code",
      "execution_count": 211,
      "metadata": {
        "colab": {
          "base_uri": "https://localhost:8080/"
        },
        "id": "gdE1WN_SXqIh",
        "outputId": "434685a2-ee65-421b-c27e-d5479d12d4b4"
      },
      "outputs": [
        {
          "output_type": "execute_result",
          "data": {
            "text/plain": [
              "14.352930500402005"
            ]
          },
          "metadata": {},
          "execution_count": 211
        }
      ],
      "source": [
        "#newton\n",
        "def df(t):\n",
        "  alfa=math.pi/3\n",
        "  v0=100\n",
        "  C=10\n",
        "  vx=v0*math.cos(alfa)\n",
        "  vy=v0*math.sin(alfa)\n",
        "  return ((C*vy+9.8*C**2)*(math.exp(-t/C)/C)-9.8*C)\n",
        "\n",
        "x0 = 14\n",
        "maxit = 15\n",
        "for i in range (maxit):\n",
        "  xn= x0-f(x0)/df(x0)\n",
        "  x0= xn\n",
        "x0"
      ]
    },
    {
      "cell_type": "code",
      "source": [
        "#dígitos significativos\n",
        "t = 15\n",
        "epsilon = 10**(1-t)/2\n",
        "# Test del signo\n",
        "f(x0-epsilon)*f(x0+epsilon)\n",
        "print(\"Con el método de newton la solución\", x0, \"tiene\", t, \"dígitos significativos\")"
      ],
      "metadata": {
        "colab": {
          "base_uri": "https://localhost:8080/"
        },
        "id": "JM0-QgdH-6Z1",
        "outputId": "7ab4c866-ee01-496b-c4e3-7d7989c384f5"
      },
      "execution_count": 213,
      "outputs": [
        {
          "output_type": "stream",
          "name": "stdout",
          "text": [
            "Con el método de newton la solución 14.352930500402005 tiene 15 dígitos significativos\n"
          ]
        }
      ]
    }
  ],
  "metadata": {
    "colab": {
      "collapsed_sections": [],
      "name": "EC - Tarea 2 - Estadística Computacional_21_jun.ipynb",
      "provenance": []
    },
    "kernelspec": {
      "display_name": "Python 3",
      "language": "python",
      "name": "python3"
    },
    "language_info": {
      "codemirror_mode": {
        "name": "ipython",
        "version": 3
      },
      "file_extension": ".py",
      "mimetype": "text/x-python",
      "name": "python",
      "nbconvert_exporter": "python",
      "pygments_lexer": "ipython3",
      "version": "3.8.5"
    }
  },
  "nbformat": 4,
  "nbformat_minor": 0
}