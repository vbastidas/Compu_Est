{
  "cells": [
    {
      "cell_type": "markdown",
      "metadata": {
        "id": "AHwh8pEKeYYz"
      },
      "source": [
        "# Tarea 1 - Estadística Computacional\n",
        "\n",
        "- Nombre: Valentina Alejandra Bastidas Schade\n",
        "- Nombre: Diana Marcela Martínez Ruiz\n",
        "\n",
        "Curso: Estadística Computacional\n",
        "\n",
        "Doctorado en Estadística\n",
        "\n",
        "\n",
        "Responda las preguntas que se indican colocando el código requerido. El Notebook se entrega totalmente ejecutado."
      ]
    },
    {
      "cell_type": "markdown",
      "metadata": {
        "id": "hJSM7VpweYZM"
      },
      "source": [
        "**Ingrese los Toolbox que se utilizarán en este Jupyter**"
      ]
    },
    {
      "cell_type": "code",
      "execution_count": 53,
      "metadata": {
        "id": "PtEZppw_eYZN"
      },
      "outputs": [],
      "source": [
        "import numpy as np #se trabaja con listas\n"
      ]
    },
    {
      "cell_type": "markdown",
      "metadata": {
        "id": "5KkNh4CReYZP"
      },
      "source": [
        "## 1. Indicadores estadísticos.\n",
        "\n",
        "En estadística, en muchas ocasiones se requiere implementar indicadores o estadísticos. En esta pregunta deberá implementar los siguientes indicadores:"
      ]
    },
    {
      "cell_type": "markdown",
      "metadata": {
        "id": "whUAjuMCeYah"
      },
      "source": [
        "1. **Symmetric mean absolute percentage error (SMAPE or sMAPE)**: es una medida de precisión basada en errores porcentuales (o relativos).\n",
        "\n",
        "$$sMAPE = \\frac{100\\%}{n}\\sum_{t=1}^n \\frac{|F_t-A_t|}{(|A_t|+|F_t|)/2}$$\n",
        "\n",
        "donde $A_t$ es el valor real y $F_t$ es el valor de pronóstico.\n",
        "\n",
        "Implementar la Función sMAPE:"
      ]
    },
    {
      "cell_type": "code",
      "source": [
        "def SMAPE(d,p):\n",
        "  res=[]\n",
        "  for i in range(0,20):\n",
        "    res.append(abs(d[i]-p[i])/((abs(d[i])+abs(p[i]))/2))\n",
        "  SMAPE=(100/len(d))*sum(res)\n",
        "  print(SMAPE)"
      ],
      "metadata": {
        "id": "PWTqkOO1c5pa"
      },
      "execution_count": 54,
      "outputs": []
    },
    {
      "cell_type": "markdown",
      "metadata": {
        "id": "1pnM7aC4eYaj"
      },
      "source": [
        "Aplicar la función sMAPE de las siguientes listas:\n",
        "\n",
        "Dato = { 1.5 ,  2.89, -0.08, -2.93, -1.35,  2.26,  2.47, -1.05, -2.98,\n",
        "       -0.41,  2.78,  1.78, -1.91, -2.71,  0.58,  3.  ,  0.9 , -2.56,\n",
        "       -2.15,  1.5 }\n",
        "       \n",
        "Predicción = { 3.58,  4.3 ,  0.5 , -3.11, -1.94,  3.71,  1.56, -1.55, -2.77,\n",
        "       -0.51,  2.93,  2.14, -1.76, -1.96, -0.51,  2.96, -0.34, -3.33,\n",
        "       -3.49,  1.5}\n"
      ]
    },
    {
      "cell_type": "code",
      "execution_count": 55,
      "metadata": {
        "id": "Z1CM8opKeYal"
      },
      "outputs": [],
      "source": [
        "Dato = [ 1.5 ,  2.89, -0.08, -2.93, -1.35,  2.26,  2.47, -1.05, -2.98,\n",
        "       -0.41,  2.78,  1.78, -1.91, -2.71,  0.58,  3.  ,  0.9 , -2.56,\n",
        "       -2.15,  1.5 ]\n",
        "       \n",
        "Prediccion = [ 3.58,  4.3 ,  0.5 , -3.11, -1.94,  3.71,  1.56, -1.55, -2.77,\n",
        "       -0.51,  2.93,  2.14, -1.76, -1.96, -0.51,  2.96, -0.34, -3.33,\n",
        "       -3.49,  1.5]"
      ]
    },
    {
      "cell_type": "code",
      "source": [
        "res=SMAPE(Dato, Prediccion)"
      ],
      "metadata": {
        "colab": {
          "base_uri": "https://localhost:8080/"
        },
        "id": "y8QPjA8tjPIb",
        "outputId": "4bc14346-41d2-4bcb-b288-b99ef9af9707"
      },
      "execution_count": 56,
      "outputs": [
        {
          "output_type": "stream",
          "name": "stdout",
          "text": [
            "53.15507816129964\n"
          ]
        }
      ]
    },
    {
      "cell_type": "markdown",
      "metadata": {
        "id": "Cp6TpBnheYan"
      },
      "source": [
        "2. **Coeficiente de correlación de Spearman ($\\rho$)**: es una medida de la correlación (la asociación o interdependencia) entre dos variables aleatorias (tanto continuas como discretas). Para calcular $\\rho$, los datos son ordenados y reemplazados por su respectivo orden.\n",
        "\n",
        "El estadístico está dado por:\n",
        "\n",
        "$$\\rho = 1 - \\frac{6\\sum_i D_{(i)}^2}{N(N^2-1)}$$\n",
        "\n",
        "donde $D_{(i)}$ es la diferencia entre los correspondientes estadísticos de orden de $x$ e $y$. $N$ es el número de parejas de datos.\n"
      ]
    },
    {
      "cell_type": "markdown",
      "metadata": {
        "id": "EIcwkqHCeYax"
      },
      "source": [
        "Calcular el coeficiente de correlación de Spearman para los siguientes datos:\n",
        "    \n",
        "Dato = { 1.5 ,  2.89, -0.08, -2.93, -1.35,  2.26,  2.47, -1.05, -2.98,\n",
        "       -0.41,  2.78,  1.78, -1.91, -2.71,  0.58,  3.  ,  0.9 , -2.56,\n",
        "       -2.15,  1.5 }\n",
        "       \n",
        "Predicción = { 3.58,  4.3 ,  0.5 , -3.11, -1.94,  3.71,  1.56, -1.55, -2.77,\n",
        "       -0.51,  2.93,  2.14, -1.76, -1.96, -0.51,  2.96, -0.34, -3.33,\n",
        "       -3.49,  1.5}"
      ]
    },
    {
      "cell_type": "code",
      "source": [
        "Dato = [ 1.5 , 2.89, -0.08, -2.93, -1.35,  2.26,  2.47, -1.05, -2.98,\n",
        "       -0.41,  2.78,  1.78, -1.91, -2.71,  0.58,  3.  ,  0.9 , -2.56,\n",
        "       -2.15,  1.5]\n",
        "       \n",
        "Prediccion = [ 3.58,  4.3 ,  0.5 , -3.11, -1.94,  3.71,  1.56, -1.55, -2.77,\n",
        "       -0.51,  2.93,  2.14, -1.76, -1.96, -0.51,  2.96, -0.34, -3.33,\n",
        "       -3.49,  1.5]"
      ],
      "metadata": {
        "id": "fQutQHB_ThbN"
      },
      "execution_count": 57,
      "outputs": []
    },
    {
      "cell_type": "code",
      "source": [
        "def Spearman(Dato,Prediccion):\n",
        "  Dato2=sorted(Dato.copy()) #esta función genera los índices de la variable dato\n",
        "  indice=[]\n",
        "  for i in range(len(Dato)):\n",
        "    indice.append(Dato2.index(Dato[i]))\n",
        "  \n",
        "\n",
        "  Prediccion2=sorted(Prediccion.copy())#esta función genera los índices de la variable prediccion\n",
        "  indice2=[]\n",
        "  for i in range(len(Prediccion)):\n",
        "    indice2.append(Prediccion2.index(Prediccion[i]))\n",
        "  \n",
        "\n",
        "  def twice(a): #esta funcion reemplaza los valores de los índices repetidos por el promedio de ellos\n",
        "    for i in range(len(a)):\n",
        "      for j in range(i+1,len(a)):\n",
        "        if a[i]==a[j]: \n",
        "          a[i]=(a[i]*2+1)/2\n",
        "          a[j]=a[i]\n",
        "    return(a)\n",
        "  \n",
        "  indice=twice(indice)\n",
        "  indice2=twice(indice2)\n",
        "  \n",
        "  d2=[]\n",
        "  for i in range(len(Dato)):\n",
        "    d2.append((indice[i]-indice2[i])**2)\n",
        "  #return(d)\n",
        "\n",
        "  coef=1-(6*(sum(d2))/(len(Dato)*(len(Dato)**2 -1)))\n",
        "  print(coef)\n",
        "\n",
        "\n",
        "Spearman(Dato,Prediccion)"
      ],
      "metadata": {
        "colab": {
          "base_uri": "https://localhost:8080/"
        },
        "id": "zyBRR3fPAT6N",
        "outputId": "11c19c59-7e37-4471-c1e2-3a0212d37775"
      },
      "execution_count": 58,
      "outputs": [
        {
          "output_type": "stream",
          "name": "stdout",
          "text": [
            "0.9278195488721804\n"
          ]
        }
      ]
    },
    {
      "cell_type": "markdown",
      "metadata": {
        "id": "isWmCc2ReYaz"
      },
      "source": [
        "3. **Coeficiente de Gini:** es una medida de la desigualdad. El coeficiente de Gini es un número entre 0 y 1, en donde 0 se corresponde con la perfecta igualdad (todos tienen los mismos ingresos) y donde el valor 1 se corresponde con la perfecta desigualdad. Para obtener el coeficiente de Gini, en general se utiliza la fórmila de Brown:\n",
        "\n",
        "$$G = \\left|1 - \\sum_{k=1}^n (X_{k+1}-X_k)(Y_{k+1}+Y_k)\\right|$$\n",
        "\n",
        "donde $X$ e $Y$ corresponden a la proporción acumulada de las variables.\n",
        "\n",
        "Implementar la función que calcule el coeficiente de Gini.\n"
      ]
    },
    {
      "cell_type": "markdown",
      "metadata": {
        "id": "7YQnfOjyeYa0"
      },
      "source": [
        "Obtener el coeficiente de Gini para las siguientes dos proporciones:\n",
        "\n",
        "| Variables Acumuladas| Clase 1 | Clase 2 | Clase 3 | Clase 4 | Clase 5 |\n",
        "| --- | --- | --- | --- | --- | --- |\n",
        "| X | 0.09 | 0.33 | 0.45 | 0.78 | 1 |\n",
        "| Y | 0.17 | 0.48 | 0.62 | 0.86 | 1 |\n",
        "\n"
      ]
    },
    {
      "cell_type": "code",
      "source": [
        "X=[0.09,0.33,0.45,0.78,1]\n",
        "Y=[0.17,0.48,0.62,0.86,1]"
      ],
      "metadata": {
        "id": "PYRZ7xwmZLXn"
      },
      "execution_count": 59,
      "outputs": []
    },
    {
      "cell_type": "code",
      "source": [
        "def gini(x,y):\n",
        "  prod=[]\n",
        "  for i in range(len(X)-1): \n",
        "    prod.append((X[i+1]-X[i])*(Y[i+1]+Y[i]))\n",
        "  gini=abs(1-sum(prod))\n",
        "  return(gini)\n",
        "\n",
        "print(gini(X,Y))"
      ],
      "metadata": {
        "colab": {
          "base_uri": "https://localhost:8080/"
        },
        "id": "xpwV_8inYAj0",
        "outputId": "56cc4cdb-4b27-438c-9bbb-966c3af65a9c"
      },
      "execution_count": 60,
      "outputs": [
        {
          "output_type": "stream",
          "name": "stdout",
          "text": [
            "0.1856\n"
          ]
        }
      ]
    },
    {
      "cell_type": "markdown",
      "metadata": {
        "id": "ZbsjvoX9eYa4"
      },
      "source": [
        "## 2. Algoritmos"
      ]
    },
    {
      "cell_type": "markdown",
      "metadata": {
        "id": "1RC26f0LeYa6"
      },
      "source": [
        "1. Dado dos conjuntos de datos ordenados y de tamaños diferentes, realizar una función que mezcle ambos conjunto y genere un nuevo conjunto con todos los datos ordenados."
      ]
    },
    {
      "cell_type": "code",
      "execution_count": 61,
      "metadata": {
        "id": "ACzscmuOeYa_"
      },
      "outputs": [],
      "source": [
        "def ordenada(d1,d2):\n",
        "  d=d1+d2\n",
        "  for i in range(len(d)):\n",
        "      minimo_d=i\n",
        "      for j in range (i+1,len(d)):\n",
        "        if d[minimo_d]>d[j]:\n",
        "          minimo_d=j\n",
        "        #intercambiar el elemento más pequeño\n",
        "      d[i],d[minimo_d]=d[minimo_d],d[i]\n",
        "  return(d) "
      ]
    },
    {
      "cell_type": "markdown",
      "metadata": {
        "id": "6xUdjLZ9eYbA"
      },
      "source": [
        "Aplicar el algoritmo para mezclar y ordenar los siguientes conjuntos:\n",
        "\n",
        "$$D_1 = \\{5, 7, 15, 23, 45, 72, 83\\}$$\n",
        "\n",
        "$$D_2= \\{1, 2, 6, 29, 37, 75, 100, 110, 115, 117\\}$$"
      ]
    },
    {
      "cell_type": "code",
      "execution_count": 62,
      "metadata": {
        "id": "GX0SrIj-eYbH"
      },
      "outputs": [],
      "source": [
        "D1=[5,7,15,23,45,72,83]\n",
        "D2=[1,2,6,29,37,75,100,110,115,117]"
      ]
    },
    {
      "cell_type": "code",
      "source": [
        "print(ordenada(D1,D2))\n",
        "type(ordenada(D1,D2))"
      ],
      "metadata": {
        "colab": {
          "base_uri": "https://localhost:8080/"
        },
        "id": "JdfUax2PaBkF",
        "outputId": "e39ff2d2-b388-4115-ed14-ab167d9a3580"
      },
      "execution_count": 63,
      "outputs": [
        {
          "output_type": "stream",
          "name": "stdout",
          "text": [
            "[1, 2, 5, 6, 7, 15, 23, 29, 37, 45, 72, 75, 83, 100, 110, 115, 117]\n"
          ]
        },
        {
          "output_type": "execute_result",
          "data": {
            "text/plain": [
              "list"
            ]
          },
          "metadata": {},
          "execution_count": 63
        }
      ]
    },
    {
      "cell_type": "markdown",
      "metadata": {
        "id": "9ApSqhGteYbH"
      },
      "source": [
        "2. La equivalencia de los símbolos básicos de los números romanos es la siguiente:\n",
        "\n",
        "|Número Romano | I | V | X | L | C | D | M |\n",
        "| --- | --- | --- | --- | --- | --- | --- | --- |\n",
        "|Número decimal| 1 | 5 | 10 | 50 | 100 | 500 | 1000 |\n",
        "\n",
        "Los enteros romanos se escriben de acuerdo a las siguientes reglas:\n",
        "\n",
        "- Si una letra está seguida inmediatamente por una de igual o menor valor, su valor se suma al total acumulado. Así, XX = 20, XV = 15 y VI = 6.\n",
        "- Si una letra está seguida inmediatamente por una de mayor valor, su valor se sustrae del total acumulado. Así, IV = 4, XL = 40 y CM = 900.\n",
        "\n",
        "Escriba la función que reciba un string con un número en notación romana, y entregue el entero equivalente:"
      ]
    },
    {
      "cell_type": "code",
      "source": [
        "x=input('Ingrese un número romano: ')\n",
        "def romano(x):\n",
        "    d={\"I\":1,\"V\":5,\"X\":10,\"L\":50,\"C\":100,\"D\":500,\"M\":1000}\n",
        "    acum=0\n",
        "    for i in range(0,len(x)):\n",
        "        if i==0 or d[x[i]]<=d[x[i-1]]:\n",
        "            acum+=d[x[i]]\n",
        "        else:\n",
        "            acum+=d[x[i]]-2*d[x[i-1]]\n",
        "    return(acum)\n",
        " \n",
        "print('El número arábigo correspondiente es: ', romano(x))"
      ],
      "metadata": {
        "colab": {
          "base_uri": "https://localhost:8080/"
        },
        "id": "jDr7G2hZTq-i",
        "outputId": "e22b3d32-12ce-43c0-bdcf-f3a02a380183"
      },
      "execution_count": 64,
      "outputs": [
        {
          "output_type": "stream",
          "name": "stdout",
          "text": [
            "Ingrese un número romano: CMXLIX\n",
            "El número arábigo correspondiente es:  949\n"
          ]
        }
      ]
    },
    {
      "cell_type": "markdown",
      "metadata": {
        "id": "8O350tvEeYbJ"
      },
      "source": [
        "## 3. Algoritmos en Series de Tiempo\n",
        "\n",
        "Una serie de tiempo es una secuencia de valores numéricos obtenidos a intervalos de tiempos regulares.\n",
        "\n",
        "$$X=\\{x_1, x_2,....., x_t, ..., x_T\\}$$"
      ]
    },
    {
      "cell_type": "markdown",
      "metadata": {
        "id": "_0S7HkIqeYbM"
      },
      "source": [
        "1. Las medias móviles con retardo $p$ de una serie de tiempo son las secuencia de todos los promedios de $p$ valores consecutivos de la serie. Realizar una función que retorne el arreglo de las medias móviles con retardo $p$ de la serie."
      ]
    },
    {
      "cell_type": "code",
      "source": [
        "def med_movil(x,p):\n",
        "  mm=[]\n",
        "  for i in range(len(x)-(p-1)):\n",
        "    mm.append(np.mean(Dato[i:(i+p)]))\n",
        "  return(mm)"
      ],
      "metadata": {
        "id": "pRMLoVKEWzu3"
      },
      "execution_count": 65,
      "outputs": []
    },
    {
      "cell_type": "markdown",
      "metadata": {
        "id": "iptJ5capeYbQ"
      },
      "source": [
        "Aplicar la función a los siguientes datos:\n",
        "\n",
        "Dato = { 1.5 ,  2.89, -0.08, -2.93, -1.35,  2.26,  2.47, -1.05, -2.98,\n",
        "       -0.41,  2.78,  1.78, -1.91, -2.71,  0.58,  3.  ,  0.9 , -2.56,\n",
        "       -2.15,  1.5 }"
      ]
    },
    {
      "cell_type": "code",
      "execution_count": 66,
      "metadata": {
        "id": "533z4WbSeYbR",
        "colab": {
          "base_uri": "https://localhost:8080/"
        },
        "outputId": "ff3533eb-851e-440a-dcbd-96695d7adfc0"
      },
      "outputs": [
        {
          "output_type": "stream",
          "name": "stdout",
          "text": [
            "20\n"
          ]
        }
      ],
      "source": [
        "Dato = [1.5 ,  2.89, -0.08, -2.93, -1.35,  2.26,  2.47, -1.05, -2.98,\n",
        "       -0.41,  2.78,  1.78, -1.91, -2.71,  0.58,  3.  ,  0.9 , -2.56,\n",
        "       -2.15,  1.5 ]\n",
        "print(len(Dato))"
      ]
    },
    {
      "cell_type": "code",
      "source": [
        "#retardo p=10 (ejemplo)\n",
        "a=med_movil(Dato,10)\n",
        "print(a)\n",
        "print(len(a))"
      ],
      "metadata": {
        "colab": {
          "base_uri": "https://localhost:8080/"
        },
        "id": "KeL6Xkb6W14e",
        "outputId": "907be723-b0eb-4908-9b35-dba6b79b8b2c"
      },
      "execution_count": 68,
      "outputs": [
        {
          "output_type": "stream",
          "name": "stdout",
          "text": [
            "[0.03200000000000004, 0.15999999999999998, 0.04899999999999995, -0.13400000000000004, -0.11200000000000003, 0.08099999999999999, 0.15499999999999997, -0.002000000000000035, -0.15300000000000008, -0.07000000000000002, 0.12099999999999995]\n",
            "11\n"
          ]
        }
      ]
    },
    {
      "cell_type": "markdown",
      "metadata": {
        "id": "VBG-4QCTeYbS"
      },
      "source": [
        "2. Las diferencias finitas de una serie de tiempo son la secuencia de todas las diferencias entre un valor y el anterior. Escribir una función que retorne el arreglo de las diferencias finitas de la serie."
      ]
    },
    {
      "cell_type": "code",
      "source": [
        "def dife_fini(d):\n",
        "  diferencia_finita=[] \n",
        "  t=0\n",
        "  for i in range(1,len(d)):\n",
        "    t=d[i]-d[i-1]\n",
        "    diferencia_finita.append(t)\n",
        "  return(diferencia_finita)"
      ],
      "metadata": {
        "id": "nsfkq88Kqt_9"
      },
      "execution_count": 69,
      "outputs": []
    },
    {
      "cell_type": "markdown",
      "metadata": {
        "id": "bCn1TZtfeYbY"
      },
      "source": [
        "Aplicar la función a los siguientes datos:\n",
        "\n",
        "Dato = { 1.5 ,  2.89, -0.08, -2.93, -1.35,  2.26,  2.47, -1.05, -2.98,\n",
        "       -0.41,  2.78,  1.78, -1.91, -2.71,  0.58,  3.  ,  0.9 , -2.56,\n",
        "       -2.15,  1.5 }"
      ]
    },
    {
      "cell_type": "code",
      "source": [
        "a=dife_fini(Dato)\n",
        "print(a)\n",
        "print(len(a))"
      ],
      "metadata": {
        "colab": {
          "base_uri": "https://localhost:8080/"
        },
        "id": "HKf1IgZmo2oy",
        "outputId": "928f13f1-34eb-4ba4-c53e-3bbe990f432e"
      },
      "execution_count": 70,
      "outputs": [
        {
          "output_type": "stream",
          "name": "stdout",
          "text": [
            "[1.3900000000000001, -2.97, -2.85, 1.58, 3.61, 0.2100000000000004, -3.5200000000000005, -1.93, 2.57, 3.19, -0.9999999999999998, -3.69, -0.8, 3.29, 2.42, -2.1, -3.46, 0.41000000000000014, 3.65]\n",
            "19\n"
          ]
        }
      ]
    },
    {
      "cell_type": "markdown",
      "metadata": {
        "id": "umMlatX3eYbd"
      },
      "source": [
        "3. En algunos métodos se requiere construir la matriz de rezagos de orden p. Esto es, dado la serie de tiempo:\n",
        "\n",
        "$$X=\\{x_1, x_2,....., x_t, ..., x_T\\}$$\n",
        "\n",
        "La matriz de rezagos de orden $p$ está dada por:\n",
        "\n",
        "$$M = \\left[\\begin{array}{cccccc}\n",
        "x_1 & x_2 & ... & x_p\\\\\n",
        "x_2 & x_3 & ... & x_{p+1}\\\\\n",
        "x_4 & x_5 & ... & x_{p+2}\\\\\n",
        "... & ... & ... & ...\\\\\n",
        "x_{T-p} & x_{T-p+1} & ... & x_{T-1}\\\\\n",
        "x_{T-p+1} & x_{T-p+2} & ... & x_{T}\\\\\n",
        "\\end{array}\n",
        "\\right]$$ \n",
        "\n",
        "Realizar una función que construya dicha estructura de datos."
      ]
    },
    {
      "cell_type": "markdown",
      "metadata": {
        "id": "JmJUX3XBeYbo"
      },
      "source": [
        "Aplicar la función a los siguientes datos:\n",
        "\n",
        "Dato = { 1.5 ,  2.89, -0.08, -2.93, -1.35,  2.26,  2.47, -1.05, -2.98,\n",
        "       -0.41,  2.78,  1.78, -1.91, -2.71,  0.58,  3.  ,  0.9 , -2.56,\n",
        "       -2.15,  1.5 }"
      ]
    },
    {
      "cell_type": "code",
      "source": [
        "#Data= [1,2,3,4,5,6,7,8,9] #quedarían finalmente 3-(n+1) elementos por columna?\n",
        "def rezagos(x,p):\n",
        "  M=[]\n",
        "  for i in range(len(x)-(p-1)):\n",
        "    M=M+x[i:i+p]\n",
        "    R=np.array(M)\n",
        "  F=R.reshape((len(x)-(p-1)),p)\n",
        "  return(F)\n",
        "\n",
        "#ejemplo para p=9\n",
        "print(rezagos(Dato,9))\n",
        "type(rezagos(Dato,9))"
      ],
      "metadata": {
        "colab": {
          "base_uri": "https://localhost:8080/"
        },
        "id": "FfBpLizv17Mm",
        "outputId": "47a98d87-ba5e-4ed0-bd44-5bf81e302f82"
      },
      "execution_count": 72,
      "outputs": [
        {
          "output_type": "stream",
          "name": "stdout",
          "text": [
            "[[ 1.5   2.89 -0.08 -2.93 -1.35  2.26  2.47 -1.05 -2.98]\n",
            " [ 2.89 -0.08 -2.93 -1.35  2.26  2.47 -1.05 -2.98 -0.41]\n",
            " [-0.08 -2.93 -1.35  2.26  2.47 -1.05 -2.98 -0.41  2.78]\n",
            " [-2.93 -1.35  2.26  2.47 -1.05 -2.98 -0.41  2.78  1.78]\n",
            " [-1.35  2.26  2.47 -1.05 -2.98 -0.41  2.78  1.78 -1.91]\n",
            " [ 2.26  2.47 -1.05 -2.98 -0.41  2.78  1.78 -1.91 -2.71]\n",
            " [ 2.47 -1.05 -2.98 -0.41  2.78  1.78 -1.91 -2.71  0.58]\n",
            " [-1.05 -2.98 -0.41  2.78  1.78 -1.91 -2.71  0.58  3.  ]\n",
            " [-2.98 -0.41  2.78  1.78 -1.91 -2.71  0.58  3.    0.9 ]\n",
            " [-0.41  2.78  1.78 -1.91 -2.71  0.58  3.    0.9  -2.56]\n",
            " [ 2.78  1.78 -1.91 -2.71  0.58  3.    0.9  -2.56 -2.15]\n",
            " [ 1.78 -1.91 -2.71  0.58  3.    0.9  -2.56 -2.15  1.5 ]]\n"
          ]
        },
        {
          "output_type": "execute_result",
          "data": {
            "text/plain": [
              "numpy.ndarray"
            ]
          },
          "metadata": {},
          "execution_count": 72
        }
      ]
    }
  ],
  "metadata": {
    "kernelspec": {
      "display_name": "Python 3",
      "language": "python",
      "name": "python3"
    },
    "language_info": {
      "codemirror_mode": {
        "name": "ipython",
        "version": 3
      },
      "file_extension": ".py",
      "mimetype": "text/x-python",
      "name": "python",
      "nbconvert_exporter": "python",
      "pygments_lexer": "ipython3",
      "version": "3.8.5"
    },
    "colab": {
      "name": "EC - Tarea 1 - DianaM - ValentinaB.ipynb",
      "provenance": [],
      "collapsed_sections": []
    }
  },
  "nbformat": 4,
  "nbformat_minor": 0
}